{
 "cells": [
  {
   "cell_type": "code",
   "execution_count": 4,
   "id": "5ccd2d92-40a0-4d2d-a989-5c915aa3cebb",
   "metadata": {},
   "outputs": [],
   "source": [
    "import re\n",
    "import nltk"
   ]
  },
  {
   "cell_type": "code",
   "execution_count": 5,
   "id": "59ec2a20-f4f9-4978-8bba-03696b0d5571",
   "metadata": {},
   "outputs": [
    {
     "name": "stderr",
     "output_type": "stream",
     "text": [
      "[nltk_data] Downloading package stopwords to\n",
      "[nltk_data]     C:\\Users\\acohal\\AppData\\Roaming\\nltk_data...\n",
      "[nltk_data]   Package stopwords is already up-to-date!\n",
      "[nltk_data] Downloading package vader_lexicon to\n",
      "[nltk_data]     C:\\Users\\acohal\\AppData\\Roaming\\nltk_data...\n",
      "[nltk_data]   Package vader_lexicon is already up-to-date!\n"
     ]
    },
    {
     "data": {
      "text/plain": [
       "True"
      ]
     },
     "execution_count": 5,
     "metadata": {},
     "output_type": "execute_result"
    }
   ],
   "source": [
    "# Preparatory steps - must be executed only once\n",
    "nltk.download('stopwords')\n",
    "nltk.download('vader_lexicon')"
   ]
  },
  {
   "cell_type": "code",
   "execution_count": 6,
   "id": "01094f90-4265-494f-9d35-48df9079ce21",
   "metadata": {},
   "outputs": [],
   "source": [
    "FILE_PATH = \"input\\\\miracle_in_the_andes.txt\""
   ]
  },
  {
   "cell_type": "markdown",
   "id": "81357adf-c1e3-4265-b2e7-9d0709b49534",
   "metadata": {},
   "source": [
    "# Load the book"
   ]
  },
  {
   "cell_type": "code",
   "execution_count": 7,
   "id": "6e64e0d2-006c-49eb-a74a-5f5705aa2849",
   "metadata": {},
   "outputs": [],
   "source": [
    "with open(FILE_PATH, \"r\", encoding='utf-8') as file:\n",
    "    book = file.read()"
   ]
  },
  {
   "cell_type": "markdown",
   "id": "bcbb7b08-f81c-4b34-ad3c-abba442e7214",
   "metadata": {},
   "source": [
    "# The most used words (non-articles)"
   ]
  },
  {
   "cell_type": "code",
   "execution_count": 4,
   "id": "154a6dbf-ad87-4233-a43e-ea97d2516765",
   "metadata": {},
   "outputs": [
    {
     "data": {
      "text/plain": [
       "[(5346, 'the'),\n",
       " (2795, 'and'),\n",
       " (2729, 'i'),\n",
       " (2400, 'to'),\n",
       " (2060, 'of'),\n",
       " (1566, 'a'),\n",
       " (1430, 'was'),\n",
       " (1419, 'in'),\n",
       " (1226, 'we'),\n",
       " (1169, 'my')]"
      ]
     },
     "execution_count": 4,
     "metadata": {},
     "output_type": "execute_result"
    }
   ],
   "source": [
    "pattern = re.compile(\"[a-zA-z]+\")\n",
    "findings = re.findall(pattern, book.lower())\n",
    "dictionary_words = {}\n",
    "for word in findings:\n",
    "    if word in dictionary_words:\n",
    "        dictionary_words[word] = dictionary_words[word] + 1\n",
    "    else:\n",
    "        dictionary_words[word] = 1\n",
    "list_words = [(value, key) for (key, value) in dictionary_words.items()]\n",
    "list_words = sorted(list_words, reverse=True)        \n",
    "list_words[:10]"
   ]
  },
  {
   "cell_type": "code",
   "execution_count": 8,
   "id": "13a078ab-2647-45db-bc29-894363d2b204",
   "metadata": {},
   "outputs": [
    {
     "data": {
      "text/plain": [
       "['a', 'about', 'above', 'after', 'again', 'against', 'ain', 'all', 'am', 'an']"
      ]
     },
     "execution_count": 8,
     "metadata": {},
     "output_type": "execute_result"
    }
   ],
   "source": [
    "from nltk.corpus import stopwords\n",
    "english_stopwords = stopwords.words(\"english\")\n",
    "english_stopwords[:10]"
   ]
  },
  {
   "cell_type": "code",
   "execution_count": 9,
   "id": "926fc330-6aca-4e8a-917f-a27359967536",
   "metadata": {},
   "outputs": [
    {
     "data": {
      "text/plain": [
       "['would',\n",
       " 'us',\n",
       " 'said',\n",
       " 'roberto',\n",
       " 'could',\n",
       " 'one',\n",
       " 'snow',\n",
       " 'mountain',\n",
       " 'time',\n",
       " 'like']"
      ]
     },
     "execution_count": 9,
     "metadata": {},
     "output_type": "execute_result"
    }
   ],
   "source": [
    "filtered_words = []\n",
    "for count, word in list_words:\n",
    "    if word not in english_stopwords:\n",
    "        filtered_words.append(word)\n",
    "filtered_words[:10]"
   ]
  },
  {
   "cell_type": "markdown",
   "id": "80080e73-556c-496d-8d03-fd6573304f6a",
   "metadata": {},
   "source": [
    "# Sentiment analysis: How positive and how negative is each chapter"
   ]
  },
  {
   "cell_type": "code",
   "execution_count": 16,
   "id": "67914413-a9c7-45be-adda-65d401df190a",
   "metadata": {},
   "outputs": [],
   "source": [
    "from nltk.sentiment import SentimentIntensityAnalyzer"
   ]
  },
  {
   "cell_type": "code",
   "execution_count": 17,
   "id": "69865c22-ffac-4b22-85da-8f24420a0db6",
   "metadata": {},
   "outputs": [],
   "source": [
    "pattern = re.compile(\"Chapter [0-9]+\")\n",
    "chapters = re.split(pattern, book)\n",
    "chapters = chapters[1:]"
   ]
  },
  {
   "cell_type": "code",
   "execution_count": 18,
   "id": "e2103194-a75a-45ea-bb83-da0e9d68bd0f",
   "metadata": {},
   "outputs": [],
   "source": [
    "analyzer = SentimentIntensityAnalyzer()"
   ]
  },
  {
   "cell_type": "code",
   "execution_count": 19,
   "id": "c0ebeed5-f695-4a26-8251-1880b0742adc",
   "metadata": {},
   "outputs": [
    {
     "name": "stdout",
     "output_type": "stream",
     "text": [
      "Chapter 1\n",
      "\tNegative score: 0.061\n",
      "\tNeutral score: 0.061\n",
      "\tPositive score: 0.061\n",
      "\tOverall sentiment: Positive\n",
      "Chapter 2\n",
      "\tNegative score: 0.12\n",
      "\tNeutral score: 0.12\n",
      "\tPositive score: 0.12\n",
      "\tOverall sentiment: Positive\n",
      "Chapter 3\n",
      "\tNegative score: 0.145\n",
      "\tNeutral score: 0.145\n",
      "\tPositive score: 0.145\n",
      "\tOverall sentiment: Negative\n",
      "Chapter 4\n",
      "\tNegative score: 0.141\n",
      "\tNeutral score: 0.141\n",
      "\tPositive score: 0.141\n",
      "\tOverall sentiment: Negative\n",
      "Chapter 5\n",
      "\tNegative score: 0.118\n",
      "\tNeutral score: 0.118\n",
      "\tPositive score: 0.118\n",
      "\tOverall sentiment: Positive\n",
      "Chapter 6\n",
      "\tNegative score: 0.124\n",
      "\tNeutral score: 0.124\n",
      "\tPositive score: 0.124\n",
      "\tOverall sentiment: Negative\n",
      "Chapter 7\n",
      "\tNegative score: 0.136\n",
      "\tNeutral score: 0.136\n",
      "\tPositive score: 0.136\n",
      "\tOverall sentiment: Negative\n",
      "Chapter 8\n",
      "\tNegative score: 0.12\n",
      "\tNeutral score: 0.12\n",
      "\tPositive score: 0.12\n",
      "\tOverall sentiment: Negative\n",
      "Chapter 9\n",
      "\tNegative score: 0.097\n",
      "\tNeutral score: 0.097\n",
      "\tPositive score: 0.097\n",
      "\tOverall sentiment: Negative\n",
      "Chapter 10\n",
      "\tNegative score: 0.086\n",
      "\tNeutral score: 0.086\n",
      "\tPositive score: 0.086\n",
      "\tOverall sentiment: Positive\n"
     ]
    }
   ],
   "source": [
    "for number, chapter in enumerate(chapters):\n",
    "    scores = analyzer.polarity_scores(chapter)\n",
    "    print(\"Chapter\", number+1)\n",
    "    print(\"\\tNegative score:\", scores[\"neg\"])\n",
    "    print(\"\\tNeutral score:\", scores[\"neg\"])\n",
    "    print(\"\\tPositive score:\", scores[\"neg\"])\n",
    "\n",
    "    if scores[\"compound\"] > 0.05:\n",
    "        print(\"\\tOverall sentiment: Positive\")\n",
    "    elif scores[\"compound\"] < -0.05:\n",
    "        print(\"\\tOverall sentiment: Negative\")\n",
    "    else:\n",
    "        print(\"\\tOverall sentiment: Neutral\")"
   ]
  },
  {
   "cell_type": "code",
   "execution_count": null,
   "id": "bf8419ba-185f-4d0d-aee2-77f22350f228",
   "metadata": {},
   "outputs": [],
   "source": []
  }
 ],
 "metadata": {
  "kernelspec": {
   "display_name": "Python 3 (ipykernel)",
   "language": "python",
   "name": "python3"
  },
  "language_info": {
   "codemirror_mode": {
    "name": "ipython",
    "version": 3
   },
   "file_extension": ".py",
   "mimetype": "text/x-python",
   "name": "python",
   "nbconvert_exporter": "python",
   "pygments_lexer": "ipython3",
   "version": "3.13.3"
  }
 },
 "nbformat": 4,
 "nbformat_minor": 5
}
