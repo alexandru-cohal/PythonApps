{
 "cells": [
  {
   "cell_type": "code",
   "execution_count": 1,
   "id": "5e8febb3-059c-4313-91a1-8e94b7333713",
   "metadata": {},
   "outputs": [],
   "source": [
    "import re"
   ]
  },
  {
   "cell_type": "code",
   "execution_count": 2,
   "id": "10a498fa-732e-49ce-9994-616f4e4c23a8",
   "metadata": {},
   "outputs": [],
   "source": [
    "FILE_PATH = \"input\\\\miracle_in_the_andes.txt\""
   ]
  },
  {
   "cell_type": "markdown",
   "id": "1ae0e8e9-6043-4622-824f-272802501074",
   "metadata": {},
   "source": [
    "# Load the book"
   ]
  },
  {
   "cell_type": "code",
   "execution_count": 3,
   "id": "25968439-713d-4c5a-b7a9-3650129510e9",
   "metadata": {},
   "outputs": [],
   "source": [
    "with open(FILE_PATH, \"r\", encoding='utf-8') as file:\n",
    "    book = file.read()"
   ]
  },
  {
   "cell_type": "markdown",
   "id": "71e02e26-c8ae-4c65-9752-431edc2650b6",
   "metadata": {},
   "source": [
    "# Number of chapters"
   ]
  },
  {
   "cell_type": "code",
   "execution_count": 4,
   "id": "3e48bbab-e556-4934-9469-703c2a528c88",
   "metadata": {},
   "outputs": [
    {
     "data": {
      "text/plain": [
       "['Chapter 1',\n",
       " 'Chapter 2',\n",
       " 'Chapter 3',\n",
       " 'Chapter 4',\n",
       " 'Chapter 5',\n",
       " 'Chapter 6',\n",
       " 'Chapter 7',\n",
       " 'Chapter 8',\n",
       " 'Chapter 9',\n",
       " 'Chapter 10']"
      ]
     },
     "execution_count": 4,
     "metadata": {},
     "output_type": "execute_result"
    }
   ],
   "source": [
    "pattern = re.compile(\"Chapter [0-9]+\")\n",
    "findings = re.findall(pattern, book)\n",
    "findings"
   ]
  },
  {
   "cell_type": "code",
   "execution_count": 5,
   "id": "7106f43c-715d-45d2-ab70-3f2d20e6e506",
   "metadata": {},
   "outputs": [
    {
     "data": {
      "text/plain": [
       "10"
      ]
     },
     "execution_count": 5,
     "metadata": {},
     "output_type": "execute_result"
    }
   ],
   "source": [
    "len(findings)"
   ]
  },
  {
   "cell_type": "markdown",
   "id": "309f9b79-b189-4530-a3c8-b47b82447111",
   "metadata": {},
   "source": [
    "# Sentences where \"love\" was used"
   ]
  },
  {
   "cell_type": "code",
   "execution_count": 6,
   "id": "1764e45d-158a-49a2-bc28-e3caae734d07",
   "metadata": {},
   "outputs": [
    {
     "data": {
      "text/plain": [
       "['As a young man, of course, I could not put these things into words, but I knew, and my teammates knew, that there was something special about the game, and under the guidance of the Christian Brothers we developed a passionate love for the sport that shaped our friendships and our lives.',\n",
       " 'Guido and I grew up together, playing soccer and sharing a love of motorcycles, cars, and auto racing.',\n",
       " 'Under the guidance of the Christian Brothers, both of us grew to love the game of rugby with a consuming passion.',\n",
       " 'That rowdiness came to an abrupt end for Guido in 1969, when he met and fell in love with the beautiful daughter of a Chilean diplomat.',\n",
       " 'I believe he had a great hunger for the love and comforts of a family that was happy and whole.',\n",
       " 'He shared, with my father and me, a love for cars and driving, and he loved going with us to auto races.',\n",
       " 'The house had a beautiful view of the sea, and this more than anything made my mother love it.',\n",
       " 'She was a true tower of strength, but her strength was always based in warmth and love and because of her love and protection I grew up believing the world was a safe, familiar place.',\n",
       " 'He had given us a life of comfort and privilege such as his own father never could have imagined, he had provided for us and protected us in the best way he could, and though he was not an emotionally expressive man, he always showed his love for us subtly, quietly, and in ways that were true to the man he was.',\n",
       " 'Out of love for his family he had arranged in his mind a future that would keep us all safe, happy, and always together.']"
      ]
     },
     "execution_count": 6,
     "metadata": {},
     "output_type": "execute_result"
    }
   ],
   "source": [
    "\"\"\"\n",
    "Explanation of the pattern:\n",
    "    [A-Z]{1} = exactly one capital letter\n",
    "    [^.]* = zero or more non period symbols\n",
    "    [^a-zA-Z]+ = one or more non lowercase letters nor capital letters\n",
    "    love = exactly this sequence of letters\n",
    "    . = one period\n",
    "\"\"\"\n",
    "pattern = re.compile(\"[A-Z]{1}[^.]*[^a-zA-Z]+love[^a-zA-Z]+[^.]*.\")\n",
    "findings = re.findall(pattern, book)\n",
    "findings[:10]"
   ]
  },
  {
   "cell_type": "code",
   "execution_count": 7,
   "id": "38c23abb-d95f-440b-a2ac-7f48471a3470",
   "metadata": {},
   "outputs": [
    {
     "data": {
      "text/plain": [
       "67"
      ]
     },
     "execution_count": 7,
     "metadata": {},
     "output_type": "execute_result"
    }
   ],
   "source": [
    "len(findings)"
   ]
  },
  {
   "cell_type": "markdown",
   "id": "c734cec3-1cd7-4b61-9749-52d4bce46f01",
   "metadata": {},
   "source": [
    "# The most used words"
   ]
  },
  {
   "cell_type": "code",
   "execution_count": 8,
   "id": "75a1fb70-24b4-4327-bd5d-8721017a76b1",
   "metadata": {},
   "outputs": [
    {
     "data": {
      "text/plain": [
       "['chapter',\n",
       " 'before',\n",
       " 'it',\n",
       " 'was',\n",
       " 'friday',\n",
       " 'the',\n",
       " 'thirteenth',\n",
       " 'of',\n",
       " 'october',\n",
       " 'we']"
      ]
     },
     "execution_count": 8,
     "metadata": {},
     "output_type": "execute_result"
    }
   ],
   "source": [
    "pattern = re.compile(\"[a-zA-z]+\")\n",
    "findings = re.findall(pattern, book.lower())\n",
    "findings[:10]"
   ]
  },
  {
   "cell_type": "code",
   "execution_count": 9,
   "id": "7e020a0c-05f6-491d-b5c8-246b8d1c120a",
   "metadata": {},
   "outputs": [
    {
     "data": {
      "text/plain": [
       "86798"
      ]
     },
     "execution_count": 9,
     "metadata": {},
     "output_type": "execute_result"
    }
   ],
   "source": [
    "len(findings)"
   ]
  },
  {
   "cell_type": "code",
   "execution_count": 10,
   "id": "344e04d2-6493-4d35-aa58-f8a7ccbbb516",
   "metadata": {},
   "outputs": [],
   "source": [
    "dictionary_words = {}\n",
    "for word in findings:\n",
    "    if word in dictionary_words:\n",
    "        dictionary_words[word] = dictionary_words[word] + 1\n",
    "    else:\n",
    "        dictionary_words[word] = 1"
   ]
  },
  {
   "cell_type": "code",
   "execution_count": 12,
   "id": "159c3c8e-d005-4b6f-b95b-d226e0604fc4",
   "metadata": {},
   "outputs": [
    {
     "data": {
      "text/plain": [
       "[(5346, 'the'),\n",
       " (2795, 'and'),\n",
       " (2729, 'i'),\n",
       " (2400, 'to'),\n",
       " (2060, 'of'),\n",
       " (1566, 'a'),\n",
       " (1430, 'was'),\n",
       " (1419, 'in'),\n",
       " (1226, 'we'),\n",
       " (1169, 'my')]"
      ]
     },
     "execution_count": 12,
     "metadata": {},
     "output_type": "execute_result"
    }
   ],
   "source": [
    "# Convert from dictionary to list of tuples in order to be able to sort it\n",
    "list_words = [(value, key) for (key, value) in dictionary_words.items()]\n",
    "list_words = sorted(list_words, reverse=True)\n",
    "list_words[:10]"
   ]
  },
  {
   "cell_type": "markdown",
   "id": "5cff42df-aa4f-4474-903a-09d3cfdd2fe2",
   "metadata": {},
   "source": [
    "# Paragraphs where \"love\" was used"
   ]
  },
  {
   "cell_type": "code",
   "execution_count": 13,
   "id": "5c35c979-85a6-43e2-b7e4-a1fd68efd6dd",
   "metadata": {},
   "outputs": [
    {
     "data": {
      "text/plain": [
       "['To me, this is the essence of rugby. No other sport gives you such an intense sense of selflessness and unified purpose. I believe this is why rugby players all over the world feel such a passion for the game and such a feeling of brotherhood. As a young man, of course, I could not put these things into words, but I knew, and my teammates knew, that there was something special about the game, and under the guidance of the Christian Brothers we developed a passionate love for the sport that shaped our friendships and our lives. For eight years we played our hearts out for the Christian Brothers—a brotherhood of young boys with Latin names, playing a game with deep Anglo roots under Uruguay’s sunny skies, and proudly wearing the bright green shamrock on our uniforms. The game became so much a part of our lives, in fact, that when we graduated from Stella Maris at the age of sixteen, many of us could not bear the thought that our playing days were over. Our salvation came in the form of the Old Christians Club, a private rugby team formed in 1965 by previous alumni of the Stella Maris rugby program to give Stella Maris ruggers a chance to continue playing the game after our school years ended.',\n",
       " 'There were others—Alexis Hounie, Gastón Costemalle, Daniel Shaw—all of them great players and all of them my friends. But my oldest friend was Guido Magri. He and I had met on my first day at the Stella Maris School—I was eight years old and Guido was one year older—and we had been inseparable ever since. Guido and I grew up together, playing soccer and sharing a love of motorcycles, cars, and auto racing. When I was fifteen we both had mopeds that we had modified in silly ways—removing the mufflers, turn signals, and fenders—and we would ride them to Las Delicias, a famous ice cream parlor in our neighborhood, where we would drool over the girls from the nearby School Sagrado Corazón, hoping to impress them with our souped-up scooters. Guido was a dependable friend, with a good sense of humor and an easy laugh. He was also an outstanding scrum half, as quick and smart as a fox, with good hands and great courage. Under the guidance of the Christian Brothers, both of us grew to love the game of rugby with a consuming passion. As seasons passed we worked hard to improve our skills, and by the time I was fifteen we had each earned a spot on the Stella Maris First XV, the team’s starting lineup. After graduation, both of us went on to join the Old Christians and spent several happy seasons pursuing the high-octane social life of young rugby players. That rowdiness came to an abrupt end for Guido in 1969, when he met and fell in love with the beautiful daughter of a Chilean diplomat. She was now his fiancée, and he was happy to behave himself for her sake.',\n",
       " 'I always laughed when he talked this way, but I could not ignore the hidden streak of anger and sadness that those questions revealed. I did not judge him for this, because I knew it was all the result of a broken heart. Panchito’s parents had divorced when he was fourteen years old. It was a disaster that had wounded him in ways he could not heal and had left him with much resentment. He had two brothers, and a stepbrother from his father’s previous marriage, but still, there was something missing for him. I believe he had a great hunger for the love and comforts of a family that was happy and whole. In any case, it did not take me long to realize that despite all the natural gifts he had been blessed with, all the things I envied him for, he envied me more for the one thing I had that he could only dream of—my sisters, my grandmother, my mother and father, all of us together in a close and happy home.']"
      ]
     },
     "execution_count": 13,
     "metadata": {},
     "output_type": "execute_result"
    }
   ],
   "source": [
    "pattern = re.compile(\"[^\\n]+love[^\\n]+\")\n",
    "findings = re.findall(pattern, book)\n",
    "findings[:3]"
   ]
  },
  {
   "cell_type": "code",
   "execution_count": 14,
   "id": "872d1436-4086-4133-b128-e7ae67338215",
   "metadata": {},
   "outputs": [
    {
     "data": {
      "text/plain": [
       "60"
      ]
     },
     "execution_count": 14,
     "metadata": {},
     "output_type": "execute_result"
    }
   ],
   "source": [
    "len(findings)"
   ]
  },
  {
   "cell_type": "markdown",
   "id": "94216826-3cf3-4bf0-83ba-f5ac912bff30",
   "metadata": {},
   "source": [
    "# Chapter titles"
   ]
  },
  {
   "cell_type": "markdown",
   "id": "7350c3b3-36ae-4a05-86e3-2077e1b81807",
   "metadata": {},
   "source": [
    "## Method 1"
   ]
  },
  {
   "cell_type": "code",
   "execution_count": 15,
   "id": "e1196c4c-13d5-47e4-9f49-b6a8f5b73d6e",
   "metadata": {},
   "outputs": [
    {
     "data": {
      "text/plain": [
       "['Before',\n",
       " 'Everything Precious',\n",
       " 'A Promise',\n",
       " 'Breathe Once More',\n",
       " 'Abandoned',\n",
       " 'Tomb',\n",
       " 'East',\n",
       " 'The Opposite of Death',\n",
       " 'I See a Man',\n",
       " 'After']"
      ]
     },
     "execution_count": 15,
     "metadata": {},
     "output_type": "execute_result"
    }
   ],
   "source": [
    "pattern = re.compile(\"\\n\\n[a-zA-Z ]+\\n\\n\")\n",
    "findings = re.findall(pattern, book)\n",
    "findings = [item.strip(\"\\n\\n\") for item in findings]\n",
    "findings"
   ]
  },
  {
   "cell_type": "code",
   "execution_count": 16,
   "id": "2e1e40a7-06c2-49f7-a106-62e534245309",
   "metadata": {},
   "outputs": [],
   "source": [
    "## Method 2"
   ]
  },
  {
   "cell_type": "code",
   "execution_count": 17,
   "id": "9102dcc2-4374-46f2-831e-aba1f55a8e45",
   "metadata": {},
   "outputs": [
    {
     "data": {
      "text/plain": [
       "['Before',\n",
       " 'Everything Precious',\n",
       " 'A Promise',\n",
       " 'Breathe Once More',\n",
       " 'Abandoned',\n",
       " 'Tomb',\n",
       " 'East',\n",
       " 'The Opposite of Death',\n",
       " 'I See a Man',\n",
       " 'After']"
      ]
     },
     "execution_count": 17,
     "metadata": {},
     "output_type": "execute_result"
    }
   ],
   "source": [
    "pattern = re.compile(\"\\n\\n([a-zA-Z ]+)\\n\\n\")\n",
    "findings = re.findall(pattern, book)\n",
    "findings"
   ]
  },
  {
   "cell_type": "markdown",
   "id": "061d61d1-cb91-4050-917e-9b50737e6a6e",
   "metadata": {},
   "source": [
    "# Function that finds the occurence of any word"
   ]
  },
  {
   "cell_type": "code",
   "execution_count": 18,
   "id": "5cd97489-bbff-460f-8eba-ce0ca1e8f1ca",
   "metadata": {},
   "outputs": [],
   "source": [
    "def word_occurences(word):\n",
    "    pattern = re.compile(f\"[^a-zA-Z]{word}[^a-zA-Z]\")\n",
    "    findings = re.findall(pattern, book.lower())\n",
    "    if findings:\n",
    "        return len(findings)\n",
    "    else:\n",
    "        return f\"The book does not contain the word '{word}'\""
   ]
  },
  {
   "cell_type": "code",
   "execution_count": 19,
   "id": "d2b0f423-2dce-4e2a-9416-d955812d24c4",
   "metadata": {},
   "outputs": [
    {
     "data": {
      "text/plain": [
       "83"
      ]
     },
     "execution_count": 19,
     "metadata": {},
     "output_type": "execute_result"
    }
   ],
   "source": [
    "word_occurences(\"love\")"
   ]
  },
  {
   "cell_type": "code",
   "execution_count": 21,
   "id": "38a749d5-3ef2-4c55-a7d7-3297536c73d9",
   "metadata": {},
   "outputs": [
    {
     "data": {
      "text/plain": [
       "\"The book does not contain the word 'hate'\""
      ]
     },
     "execution_count": 21,
     "metadata": {},
     "output_type": "execute_result"
    }
   ],
   "source": [
    "word_occurences(\"hate\")"
   ]
  },
  {
   "cell_type": "code",
   "execution_count": null,
   "id": "23049a7c-2d2d-4f64-b2de-68e8645129ec",
   "metadata": {},
   "outputs": [],
   "source": []
  }
 ],
 "metadata": {
  "kernelspec": {
   "display_name": "Python 3 (ipykernel)",
   "language": "python",
   "name": "python3"
  },
  "language_info": {
   "codemirror_mode": {
    "name": "ipython",
    "version": 3
   },
   "file_extension": ".py",
   "mimetype": "text/x-python",
   "name": "python",
   "nbconvert_exporter": "python",
   "pygments_lexer": "ipython3",
   "version": "3.13.3"
  }
 },
 "nbformat": 4,
 "nbformat_minor": 5
}
