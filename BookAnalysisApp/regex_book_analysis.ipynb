{
 "cells": [
  {
   "cell_type": "code",
   "execution_count": 15,
   "id": "5e8febb3-059c-4313-91a1-8e94b7333713",
   "metadata": {},
   "outputs": [],
   "source": [
    "import re"
   ]
  },
  {
   "cell_type": "code",
   "execution_count": 16,
   "id": "10a498fa-732e-49ce-9994-616f4e4c23a8",
   "metadata": {},
   "outputs": [],
   "source": [
    "FILE_PATH = \"input\\\\miracle_in_the_andes.txt\""
   ]
  },
  {
   "cell_type": "markdown",
   "id": "1ae0e8e9-6043-4622-824f-272802501074",
   "metadata": {},
   "source": [
    "# Load the book"
   ]
  },
  {
   "cell_type": "code",
   "execution_count": 6,
   "id": "25968439-713d-4c5a-b7a9-3650129510e9",
   "metadata": {},
   "outputs": [],
   "source": [
    "with open(FILE_PATH, \"r\", encoding='utf-8') as file:\n",
    "    book = file.read()"
   ]
  },
  {
   "cell_type": "markdown",
   "id": "71e02e26-c8ae-4c65-9752-431edc2650b6",
   "metadata": {},
   "source": [
    "# Number of chapters"
   ]
  },
  {
   "cell_type": "code",
   "execution_count": 13,
   "id": "3e48bbab-e556-4934-9469-703c2a528c88",
   "metadata": {},
   "outputs": [
    {
     "data": {
      "text/plain": [
       "['Chapter 1',\n",
       " 'Chapter 2',\n",
       " 'Chapter 3',\n",
       " 'Chapter 4',\n",
       " 'Chapter 5',\n",
       " 'Chapter 6',\n",
       " 'Chapter 7',\n",
       " 'Chapter 8',\n",
       " 'Chapter 9',\n",
       " 'Chapter 10']"
      ]
     },
     "execution_count": 13,
     "metadata": {},
     "output_type": "execute_result"
    }
   ],
   "source": [
    "pattern = re.compile(\"Chapter [0-9]+\")\n",
    "findings = re.findall(pattern, book)\n",
    "findings"
   ]
  },
  {
   "cell_type": "code",
   "execution_count": 14,
   "id": "7106f43c-715d-45d2-ab70-3f2d20e6e506",
   "metadata": {},
   "outputs": [
    {
     "data": {
      "text/plain": [
       "10"
      ]
     },
     "execution_count": 14,
     "metadata": {},
     "output_type": "execute_result"
    }
   ],
   "source": [
    "len(findings)"
   ]
  },
  {
   "cell_type": "markdown",
   "id": "309f9b79-b189-4530-a3c8-b47b82447111",
   "metadata": {},
   "source": [
    "# Sentences where \"love\" was used"
   ]
  },
  {
   "cell_type": "code",
   "execution_count": 28,
   "id": "1764e45d-158a-49a2-bc28-e3caae734d07",
   "metadata": {},
   "outputs": [
    {
     "data": {
      "text/plain": [
       "['As a young man, of course, I could not put these things into words, but I knew, and my teammates knew, that there was something special about the game, and under the guidance of the Christian Brothers we developed a passionate love for the sport that shaped our friendships and our lives.',\n",
       " 'Guido and I grew up together, playing soccer and sharing a love of motorcycles, cars, and auto racing.',\n",
       " 'Under the guidance of the Christian Brothers, both of us grew to love the game of rugby with a consuming passion.',\n",
       " 'That rowdiness came to an abrupt end for Guido in 1969, when he met and fell in love with the beautiful daughter of a Chilean diplomat.',\n",
       " 'I believe he had a great hunger for the love and comforts of a family that was happy and whole.',\n",
       " 'He shared, with my father and me, a love for cars and driving, and he loved going with us to auto races.',\n",
       " 'The house had a beautiful view of the sea, and this more than anything made my mother love it.',\n",
       " 'She was a true tower of strength, but her strength was always based in warmth and love and because of her love and protection I grew up believing the world was a safe, familiar place.',\n",
       " 'He had given us a life of comfort and privilege such as his own father never could have imagined, he had provided for us and protected us in the best way he could, and though he was not an emotionally expressive man, he always showed his love for us subtly, quietly, and in ways that were true to the man he was.',\n",
       " 'Out of love for his family he had arranged in his mind a future that would keep us all safe, happy, and always together.',\n",
       " 'Susy shared my mother’s love for the closeness of family, but she was no stay-at-home girl.',\n",
       " 'When she was sixteen she spent a year as an exchange student living with a family in Florida, an experience that taught her to love the U.',\n",
       " 'Take care of the people you love. The words inspired nothing in me but a black sense of loss.',\n",
       " 'As I lay beside her, the sweetness of my love for her, for my lost friends and my family, for the suddenly fragile notion of my own life and future, swelled in my heart with an ache so profound it sapped all my strength, and for a moment I thought I would pass out.',\n",
       " 'I pressed my cheek against hers so I could feel her warm breath on my face, and held her that way all night, gently, but very close, never letting go, embracing her as if I were embracing all the love and peace and joy I had ever known and would ever know; as if by holding on tight I could keep everything precious from slipping away.',\n",
       " 'I felt my love for my father tugging at me like a lifeline, drawing me toward those barren slopes.',\n",
       " 'In the days after Susy died, my love for my father was the only thing that kept me sane, and time after time I would calm myself by reaffirming the promise I had made at Susy’s grave: to return to him; to show him I had survived and to ease his suffering a little.',\n",
       " 'Thinking of my father this way always triggered in me a burst of love so radiant and urgent that it took my breath away.',\n",
       " 'I don’t pray to God for forgiveness or favors, I only pray to be closer to Him, and when I pray, I fill my heart with love. When I pray this way, I know that God is love.',\n",
       " 'When I feel that love, I remember that we don’t need angels or a heaven, because we are a part of God already.',\n",
       " 'Bobby, are you warm enough? Do you want me to rub your feet?” She worried constantly about the children she had left at home, but still she had the courage and love to mother these frightened boys who were so far from their families.',\n",
       " 'It was our job to follow His commandments, to take the sacraments, to love God and to love others as Jesus had taught us.',\n",
       " 'I would think of him and let my heart fill with love for him, and this love would be stronger than my suffering, or my fear.',\n",
       " 'After two weeks on the mountain, my love for my father had taken on the irresistible power of a biological drive.',\n",
       " 'All we can do is love God and love others and trust in God’s will.',\n",
       " 'I can feel His love, Nando.',\n",
       " 'There’s so much love, I want to cry.',\n",
       " 'Even if we are trapped here forever, we can love our families, and God, and each other as long as we live.',\n",
       " 'You will tell my family that I love them, won’t you? That’s all that matters to me now.',\n",
       " 'But he lived so many lifetimes, had so many adventures, and, macho, he made love to so many beautiful girls.',\n",
       " 'The shoes were magical for me because my mother had chosen them with such love for her grandson, and had handled them so tenderly on the plane.',\n",
       " 'My love for my father swelled in my heart, and I realized that, despite the hopelessness of my situation, the memory of him filled me with joy.',\n",
       " 'They could not crush my ability to love. I felt a moment of calmness and clarity, and in that clarity of mind I discovered a simple, astounding secret: Death has an opposite, but the opposite is not mere living.',\n",
       " 'The opposite of death is love. How had I missed that? How does anyone miss that? Love is our only weapon.',\n",
       " 'Only love can turn mere life into a miracle, and draw precious meaning from suffering and fear.',\n",
       " 'I would walk through the godforsaken country that separated me from my home with love and hope in my heart.',\n",
       " 'I’ve never been in love.”\\n\\n“Really?” he laughed.',\n",
       " 'But still, still, I longed for the very things I knew I would never have—the love of a wife, a family of my own, a reunion with my grandmother and older sister, and always the embrace of my father.',\n",
       " 'My ordeal had simplified my mind and whittled me down very close to the essence of what I was, and now I saw that this longing, this love and affection for the very idea of my life, was a deeper part of me than hopelessness or fear or pain or hunger.',\n",
       " 'In seconds she was in my arms, and my heart swelled with love as I held her.',\n",
       " 'There was so much I wanted to tell him, that I had thought of him every moment, that his love had been the guiding light that led me to safety.',\n",
       " 'The papers called our return “The Christmas Miracle,” and many people were regarding us as almost mystical figures: young boys who had been saved by the direct intercession of God, living proof of His love. News of our survival was making headlines around the globe, and public interest was intense.',\n",
       " 'Where should I begin? “I love it,” I said, finally.',\n",
       " 'I tried to be on my best behavior, but already I was madly in love, and it required all my effort to take my eyes off Veronique, and to remind myself there was anyone else in the room.',\n",
       " 'She stepped off the train with only a backpack and a small duffel, looking very beautiful, and I fell in love with her all over again.',\n",
       " 'Until then, I had thought I could never love anything as much as I loved my wife, but when I gazed into my baby’s face, I was struck senseless by my love for her.',\n",
       " 'I felt a sudden, staggering sense of gratitude for the rich joys of my life—I had been given so much love and happiness—and I realized that every grueling step I had taken through that godforsaken wilderness was a step toward the tiny, precious miracle I held in my arms.',\n",
       " 'We are bonded by our suffering and our losses, but also by a great sense of mutual respect and, of course, a deep, unquestioned love. I don’t know if my father has ever understood how important he was to me when I was lost.',\n",
       " 'Mostly, he saved me with his love. He was never an openly affectionate man, but I never doubted his love when I was a boy.',\n",
       " 'It was quiet love, but solid and deep and enduring.',\n",
       " 'When I was in the mountains, stranded in the shadows of death, that love was like a safety line anchored in the world of the living.',\n",
       " 'As long as I held on to that love, I was not lost, I was connected to my home and to my future, and in the end it was that strong cord of love that led me out of danger.',\n",
       " 'He saved me simply by being the father I love.\\n\\n\\nWHEN MY FELLOW survivors and I first returned from the mountains, our parents and teachers, worried that we’d been scarred by the horrors we’d faced, asked us to visit a therapist.',\n",
       " 'There was love, the love in my heart, and for one incredible moment, as I felt this love swell—love for my father, for my future, for the simple wonder of being alive—death lost its power.',\n",
       " 'Instead, I made every step a step toward love, and that saved me.',\n",
       " 'I have never stopped moving toward love. Life has blessed me with material success.',\n",
       " 'I love to travel.',\n",
       " 'I believe life should be enjoyed, but my experiences have taught me that without the love of my family and my friends, all the trappings of worldly success would ring hollow.',\n",
       " 'I also know that I would be a happy man if all those trappings were taken from me, as long as I am close to the people I love.\\n\\nI expect most people would like to think of themselves this way, but I know that if I had not suffered as I did, and had not been forced to stare death in the face, I would not treasure the simple, precious pleasures of my life as richly as I do.',\n",
       " 'I savor them and let each one become a miniature eternity, and by living these small moments of my life so fully, I defy the shadow of death that hovers over all of us, I reaffirm my love and gratitude for all the gifts I’ve been given, and I fill myself more and more deeply with life.',\n",
       " 'It seemed to reach me through my own feelings of love, and I have often thought that when we feel what we call love, we are really feeling our connection to this awesome presence.',\n",
       " 'Instead, I imagine love, an ocean of love, the very source of love, and I imagine myself merging with it.',\n",
       " 'I open myself to it, I try to direct that tide of love toward the people who are close to me, hoping to protect them and bind them to me forever and connect us all to whatever there is in the world that is eternal.',\n",
       " 'In the mountains, it was love that kept me connected to the world of the living.',\n",
       " 'I had no expertise to draw on, so I relied upon the trust I felt in my love for my father and my future, and that trust led me home.',\n",
       " 'Now I am convinced that if there is something divine in the universe, the only way I will find it is through the love I feel for my family and my friends, and through the simple wonder of being alive.',\n",
       " 'I don’t need any other wisdom or philosophy than this: My duty is to fill my time on earth with as much life as possible, to become a little more human every day, and to understand that we only become human when we love. I have tried to love my friends with a loyal and generous heart.']"
      ]
     },
     "execution_count": 28,
     "metadata": {},
     "output_type": "execute_result"
    }
   ],
   "source": [
    "\"\"\"\n",
    "Explanation of the pattern:\n",
    "    [A-Z]{1} = exactly one capital letter\n",
    "    [^.]* = zero or more non period symbols\n",
    "    [^a-zA-Z]+ = one or more non lowercase letters nor capital letters\n",
    "    love = exactly this sequence of letters\n",
    "    . = one period\n",
    "\"\"\"\n",
    "pattern = re.compile(\"[A-Z]{1}[^.]*[^a-zA-Z]+love[^a-zA-Z]+[^.]*.\")\n",
    "findings = re.findall(pattern, book)\n",
    "findings"
   ]
  },
  {
   "cell_type": "code",
   "execution_count": 29,
   "id": "38c23abb-d95f-440b-a2ac-7f48471a3470",
   "metadata": {},
   "outputs": [
    {
     "data": {
      "text/plain": [
       "67"
      ]
     },
     "execution_count": 29,
     "metadata": {},
     "output_type": "execute_result"
    }
   ],
   "source": [
    "len(findings)"
   ]
  },
  {
   "cell_type": "markdown",
   "id": "c734cec3-1cd7-4b61-9749-52d4bce46f01",
   "metadata": {},
   "source": [
    "# The most used words"
   ]
  },
  {
   "cell_type": "code",
   "execution_count": 46,
   "id": "75a1fb70-24b4-4327-bd5d-8721017a76b1",
   "metadata": {},
   "outputs": [
    {
     "data": {
      "text/plain": [
       "['chapter',\n",
       " 'before',\n",
       " 'it',\n",
       " 'was',\n",
       " 'friday',\n",
       " 'the',\n",
       " 'thirteenth',\n",
       " 'of',\n",
       " 'october',\n",
       " 'we']"
      ]
     },
     "execution_count": 46,
     "metadata": {},
     "output_type": "execute_result"
    }
   ],
   "source": [
    "pattern = re.compile(\"[a-zA-z]+\")\n",
    "findings = re.findall(pattern, book.lower())\n",
    "findings[:10]"
   ]
  },
  {
   "cell_type": "code",
   "execution_count": 33,
   "id": "7e020a0c-05f6-491d-b5c8-246b8d1c120a",
   "metadata": {},
   "outputs": [
    {
     "data": {
      "text/plain": [
       "86798"
      ]
     },
     "execution_count": 33,
     "metadata": {},
     "output_type": "execute_result"
    }
   ],
   "source": [
    "len(findings)"
   ]
  },
  {
   "cell_type": "code",
   "execution_count": 43,
   "id": "344e04d2-6493-4d35-aa58-f8a7ccbbb516",
   "metadata": {},
   "outputs": [],
   "source": [
    "dictionary_words = {}\n",
    "for word in findings:\n",
    "    if word in dictionary_words:\n",
    "        dictionary_words[word] = dictionary_words[word] + 1\n",
    "    else:\n",
    "        dictionary_words[word] = 1"
   ]
  },
  {
   "cell_type": "code",
   "execution_count": 44,
   "id": "159c3c8e-d005-4b6f-b95b-d226e0604fc4",
   "metadata": {},
   "outputs": [],
   "source": [
    "list_words = [(value, key) for (key, value) in dictionary_words.items()]\n",
    "list_words = sorted(list_words, reverse=True)"
   ]
  },
  {
   "cell_type": "code",
   "execution_count": 45,
   "id": "36919824-baa8-4546-8acd-578197e42556",
   "metadata": {},
   "outputs": [
    {
     "data": {
      "text/plain": [
       "[(5346, 'the'),\n",
       " (2795, 'and'),\n",
       " (2729, 'i'),\n",
       " (2400, 'to'),\n",
       " (2060, 'of'),\n",
       " (1566, 'a'),\n",
       " (1430, 'was'),\n",
       " (1419, 'in'),\n",
       " (1226, 'we'),\n",
       " (1169, 'my')]"
      ]
     },
     "execution_count": 45,
     "metadata": {},
     "output_type": "execute_result"
    }
   ],
   "source": [
    "list_words[:10]"
   ]
  },
  {
   "cell_type": "markdown",
   "id": "5cff42df-aa4f-4474-903a-09d3cfdd2fe2",
   "metadata": {},
   "source": [
    "# Paragraphs where \"love\" was used"
   ]
  },
  {
   "cell_type": "code",
   "execution_count": 62,
   "id": "5c35c979-85a6-43e2-b7e4-a1fd68efd6dd",
   "metadata": {},
   "outputs": [
    {
     "data": {
      "text/plain": [
       "['To me, this is the essence of rugby. No other sport gives you such an intense sense of selflessness and unified purpose. I believe this is why rugby players all over the world feel such a passion for the game and such a feeling of brotherhood. As a young man, of course, I could not put these things into words, but I knew, and my teammates knew, that there was something special about the game, and under the guidance of the Christian Brothers we developed a passionate love for the sport that shaped our friendships and our lives. For eight years we played our hearts out for the Christian Brothers—a brotherhood of young boys with Latin names, playing a game with deep Anglo roots under Uruguay’s sunny skies, and proudly wearing the bright green shamrock on our uniforms. The game became so much a part of our lives, in fact, that when we graduated from Stella Maris at the age of sixteen, many of us could not bear the thought that our playing days were over. Our salvation came in the form of the Old Christians Club, a private rugby team formed in 1965 by previous alumni of the Stella Maris rugby program to give Stella Maris ruggers a chance to continue playing the game after our school years ended.',\n",
       " 'There were others—Alexis Hounie, Gastón Costemalle, Daniel Shaw—all of them great players and all of them my friends. But my oldest friend was Guido Magri. He and I had met on my first day at the Stella Maris School—I was eight years old and Guido was one year older—and we had been inseparable ever since. Guido and I grew up together, playing soccer and sharing a love of motorcycles, cars, and auto racing. When I was fifteen we both had mopeds that we had modified in silly ways—removing the mufflers, turn signals, and fenders—and we would ride them to Las Delicias, a famous ice cream parlor in our neighborhood, where we would drool over the girls from the nearby School Sagrado Corazón, hoping to impress them with our souped-up scooters. Guido was a dependable friend, with a good sense of humor and an easy laugh. He was also an outstanding scrum half, as quick and smart as a fox, with good hands and great courage. Under the guidance of the Christian Brothers, both of us grew to love the game of rugby with a consuming passion. As seasons passed we worked hard to improve our skills, and by the time I was fifteen we had each earned a spot on the Stella Maris First XV, the team’s starting lineup. After graduation, both of us went on to join the Old Christians and spent several happy seasons pursuing the high-octane social life of young rugby players. That rowdiness came to an abrupt end for Guido in 1969, when he met and fell in love with the beautiful daughter of a Chilean diplomat. She was now his fiancée, and he was happy to behave himself for her sake.',\n",
       " 'I always laughed when he talked this way, but I could not ignore the hidden streak of anger and sadness that those questions revealed. I did not judge him for this, because I knew it was all the result of a broken heart. Panchito’s parents had divorced when he was fourteen years old. It was a disaster that had wounded him in ways he could not heal and had left him with much resentment. He had two brothers, and a stepbrother from his father’s previous marriage, but still, there was something missing for him. I believe he had a great hunger for the love and comforts of a family that was happy and whole. In any case, it did not take me long to realize that despite all the natural gifts he had been blessed with, all the things I envied him for, he envied me more for the one thing I had that he could only dream of—my sisters, my grandmother, my mother and father, all of us together in a close and happy home.']"
      ]
     },
     "execution_count": 62,
     "metadata": {},
     "output_type": "execute_result"
    }
   ],
   "source": [
    "pattern = re.compile(\"[^\\n]+love[^\\n]+\")\n",
    "findings = re.findall(pattern, book)\n",
    "findings[:3]"
   ]
  },
  {
   "cell_type": "code",
   "execution_count": 53,
   "id": "872d1436-4086-4133-b128-e7ae67338215",
   "metadata": {},
   "outputs": [
    {
     "data": {
      "text/plain": [
       "60"
      ]
     },
     "execution_count": 53,
     "metadata": {},
     "output_type": "execute_result"
    }
   ],
   "source": [
    "len(findings)"
   ]
  },
  {
   "cell_type": "markdown",
   "id": "94216826-3cf3-4bf0-83ba-f5ac912bff30",
   "metadata": {},
   "source": [
    "# Chapter titles"
   ]
  },
  {
   "cell_type": "code",
   "execution_count": 64,
   "id": "e1196c4c-13d5-47e4-9f49-b6a8f5b73d6e",
   "metadata": {},
   "outputs": [
    {
     "data": {
      "text/plain": [
       "['Before',\n",
       " 'Everything Precious',\n",
       " 'A Promise',\n",
       " 'Breathe Once More',\n",
       " 'Abandoned',\n",
       " 'Tomb',\n",
       " 'East',\n",
       " 'The Opposite of Death',\n",
       " 'I See a Man',\n",
       " 'After']"
      ]
     },
     "execution_count": 64,
     "metadata": {},
     "output_type": "execute_result"
    }
   ],
   "source": [
    "pattern = re.compile(\"\\n\\n[a-zA-Z ]+\\n\\n\")\n",
    "findings = re.findall(pattern, book)\n",
    "findings = [item.strip(\"\\n\\n\") for item in findings]\n",
    "findings"
   ]
  },
  {
   "cell_type": "code",
   "execution_count": 65,
   "id": "9102dcc2-4374-46f2-831e-aba1f55a8e45",
   "metadata": {},
   "outputs": [
    {
     "data": {
      "text/plain": [
       "['Before',\n",
       " 'Everything Precious',\n",
       " 'A Promise',\n",
       " 'Breathe Once More',\n",
       " 'Abandoned',\n",
       " 'Tomb',\n",
       " 'East',\n",
       " 'The Opposite of Death',\n",
       " 'I See a Man',\n",
       " 'After']"
      ]
     },
     "execution_count": 65,
     "metadata": {},
     "output_type": "execute_result"
    }
   ],
   "source": [
    "pattern = re.compile(\"\\n\\n([a-zA-Z ]+)\\n\\n\")\n",
    "findings = re.findall(pattern, book)\n",
    "findings"
   ]
  },
  {
   "cell_type": "markdown",
   "id": "061d61d1-cb91-4050-917e-9b50737e6a6e",
   "metadata": {},
   "source": [
    "# Function that finds the occurence of any word"
   ]
  },
  {
   "cell_type": "code",
   "execution_count": 58,
   "id": "5cd97489-bbff-460f-8eba-ce0ca1e8f1ca",
   "metadata": {},
   "outputs": [],
   "source": [
    "def word_occurences(word):\n",
    "    pattern = re.compile(f\"[^a-zA-Z]{word}[^a-zA-Z]\")\n",
    "    findings = re.findall(pattern, book.lower())\n",
    "    if findings:\n",
    "        return len(findings)\n",
    "    else:\n",
    "        return f\"The book does not contain the word '{word}'\""
   ]
  },
  {
   "cell_type": "code",
   "execution_count": 59,
   "id": "d2b0f423-2dce-4e2a-9416-d955812d24c4",
   "metadata": {},
   "outputs": [
    {
     "data": {
      "text/plain": [
       "83"
      ]
     },
     "execution_count": 59,
     "metadata": {},
     "output_type": "execute_result"
    }
   ],
   "source": [
    "word_occurences(\"love\")"
   ]
  },
  {
   "cell_type": "code",
   "execution_count": 60,
   "id": "38a749d5-3ef2-4c55-a7d7-3297536c73d9",
   "metadata": {},
   "outputs": [
    {
     "data": {
      "text/plain": [
       "\"The book does not contain the word 'hate'\""
      ]
     },
     "execution_count": 60,
     "metadata": {},
     "output_type": "execute_result"
    }
   ],
   "source": [
    "word_occurences(\"hate\")"
   ]
  },
  {
   "cell_type": "code",
   "execution_count": null,
   "id": "28c79012-79a3-428e-99f5-7d60d507cb55",
   "metadata": {},
   "outputs": [],
   "source": []
  }
 ],
 "metadata": {
  "kernelspec": {
   "display_name": "Python 3 (ipykernel)",
   "language": "python",
   "name": "python3"
  },
  "language_info": {
   "codemirror_mode": {
    "name": "ipython",
    "version": 3
   },
   "file_extension": ".py",
   "mimetype": "text/x-python",
   "name": "python",
   "nbconvert_exporter": "python",
   "pygments_lexer": "ipython3",
   "version": "3.13.3"
  }
 },
 "nbformat": 4,
 "nbformat_minor": 5
}
