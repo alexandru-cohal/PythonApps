{
 "cells": [
  {
   "cell_type": "code",
   "execution_count": 11,
   "id": "5ccd2d92-40a0-4d2d-a989-5c915aa3cebb",
   "metadata": {},
   "outputs": [],
   "source": [
    "import re"
   ]
  },
  {
   "cell_type": "code",
   "execution_count": 12,
   "id": "01094f90-4265-494f-9d35-48df9079ce21",
   "metadata": {},
   "outputs": [],
   "source": [
    "FILE_PATH = \"input\\\\miracle_in_the_andes.txt\""
   ]
  },
  {
   "cell_type": "markdown",
   "id": "81357adf-c1e3-4265-b2e7-9d0709b49534",
   "metadata": {},
   "source": [
    "# Load the book"
   ]
  },
  {
   "cell_type": "code",
   "execution_count": 13,
   "id": "6e64e0d2-006c-49eb-a74a-5f5705aa2849",
   "metadata": {},
   "outputs": [],
   "source": [
    "with open(FILE_PATH, \"r\", encoding='utf-8') as file:\n",
    "    book = file.read()"
   ]
  },
  {
   "cell_type": "markdown",
   "id": "bcbb7b08-f81c-4b34-ad3c-abba442e7214",
   "metadata": {},
   "source": [
    "# The most used words (non-articles)"
   ]
  },
  {
   "cell_type": "code",
   "execution_count": 14,
   "id": "154a6dbf-ad87-4233-a43e-ea97d2516765",
   "metadata": {},
   "outputs": [
    {
     "data": {
      "text/plain": [
       "[(5346, 'the'),\n",
       " (2795, 'and'),\n",
       " (2729, 'i'),\n",
       " (2400, 'to'),\n",
       " (2060, 'of'),\n",
       " (1566, 'a'),\n",
       " (1430, 'was'),\n",
       " (1419, 'in'),\n",
       " (1226, 'we'),\n",
       " (1169, 'my')]"
      ]
     },
     "execution_count": 14,
     "metadata": {},
     "output_type": "execute_result"
    }
   ],
   "source": [
    "pattern = re.compile(\"[a-zA-z]+\")\n",
    "findings = re.findall(pattern, book.lower())\n",
    "dictionary_words = {}\n",
    "for word in findings:\n",
    "    if word in dictionary_words:\n",
    "        dictionary_words[word] = dictionary_words[word] + 1\n",
    "    else:\n",
    "        dictionary_words[word] = 1\n",
    "list_words = [(value, key) for (key, value) in dictionary_words.items()]\n",
    "list_words = sorted(list_words, reverse=True)        \n",
    "list_words[:10]"
   ]
  },
  {
   "cell_type": "code",
   "execution_count": null,
   "id": "ae21e9eb-4db4-4bca-83de-c1737643680b",
   "metadata": {},
   "outputs": [],
   "source": [
    "\"\"\"\n",
    "    Step 1: In command line in the root folder: pip3.13 install nltk\n",
    "    Step 2: In a cell in this Jupyter Notebook:\n",
    "        import nltk\n",
    "        nltk.download('stopwords')\n",
    "\"\"\""
   ]
  },
  {
   "cell_type": "code",
   "execution_count": 38,
   "id": "d9442a43-3b4b-48aa-94fe-7e0f9838461a",
   "metadata": {},
   "outputs": [
    {
     "name": "stderr",
     "output_type": "stream",
     "text": [
      "[nltk_data] Downloading package stopwords to\n",
      "[nltk_data]     C:\\Users\\acohal\\AppData\\Roaming\\nltk_data...\n",
      "[nltk_data]   Package stopwords is already up-to-date!\n",
      "[nltk_data] Downloading package vader_lexicon to\n",
      "[nltk_data]     C:\\Users\\acohal\\AppData\\Roaming\\nltk_data...\n"
     ]
    },
    {
     "data": {
      "text/plain": [
       "True"
      ]
     },
     "execution_count": 38,
     "metadata": {},
     "output_type": "execute_result"
    }
   ],
   "source": [
    "import nltk\n",
    "nltk.download('stopwords')\n",
    "nltk.download('vader_lexicon')"
   ]
  },
  {
   "cell_type": "code",
   "execution_count": 15,
   "id": "13a078ab-2647-45db-bc29-894363d2b204",
   "metadata": {},
   "outputs": [],
   "source": [
    "from nltk.corpus import stopwords\n",
    "english_stopwords = stopwords.words(\"english\")"
   ]
  },
  {
   "cell_type": "code",
   "execution_count": 18,
   "id": "926fc330-6aca-4e8a-917f-a27359967536",
   "metadata": {},
   "outputs": [
    {
     "data": {
      "text/plain": [
       "['would',\n",
       " 'us',\n",
       " 'said',\n",
       " 'roberto',\n",
       " 'could',\n",
       " 'one',\n",
       " 'snow',\n",
       " 'mountain',\n",
       " 'time',\n",
       " 'like']"
      ]
     },
     "execution_count": 18,
     "metadata": {},
     "output_type": "execute_result"
    }
   ],
   "source": [
    "filtered_words = []\n",
    "for count, word in list_words:\n",
    "    if word not in english_stopwords:\n",
    "        filtered_words.append(word)\n",
    "filtered_words[:10]"
   ]
  },
  {
   "cell_type": "markdown",
   "id": "80080e73-556c-496d-8d03-fd6573304f6a",
   "metadata": {},
   "source": [
    "# Sentiment analysis: The most positive and most negitive chapter"
   ]
  },
  {
   "cell_type": "code",
   "execution_count": 34,
   "id": "67914413-a9c7-45be-adda-65d401df190a",
   "metadata": {},
   "outputs": [],
   "source": [
    "from nltk.sentiment import SentimentIntensityAnalyzer"
   ]
  },
  {
   "cell_type": "code",
   "execution_count": 35,
   "id": "69865c22-ffac-4b22-85da-8f24420a0db6",
   "metadata": {},
   "outputs": [],
   "source": [
    "pattern = re.compile(\"Chapter [0-9]+\")\n",
    "chapters = re.split(pattern, book)\n",
    "chapters = chapters[1:]"
   ]
  },
  {
   "cell_type": "code",
   "execution_count": 39,
   "id": "e2103194-a75a-45ea-bb83-da0e9d68bd0f",
   "metadata": {},
   "outputs": [],
   "source": [
    "analyzer = SentimentIntensityAnalyzer()"
   ]
  },
  {
   "cell_type": "code",
   "execution_count": 41,
   "id": "c0ebeed5-f695-4a26-8251-1880b0742adc",
   "metadata": {},
   "outputs": [
    {
     "name": "stdout",
     "output_type": "stream",
     "text": [
      "{'neg': 0.061, 'neu': 0.779, 'pos': 0.16, 'compound': 1.0}\n",
      "{'neg': 0.12, 'neu': 0.726, 'pos': 0.154, 'compound': 0.9991}\n",
      "{'neg': 0.145, 'neu': 0.751, 'pos': 0.105, 'compound': -0.9999}\n",
      "{'neg': 0.141, 'neu': 0.721, 'pos': 0.138, 'compound': -0.9963}\n",
      "{'neg': 0.118, 'neu': 0.742, 'pos': 0.141, 'compound': 0.9997}\n",
      "{'neg': 0.124, 'neu': 0.761, 'pos': 0.115, 'compound': -0.9979}\n",
      "{'neg': 0.136, 'neu': 0.761, 'pos': 0.103, 'compound': -0.9999}\n",
      "{'neg': 0.12, 'neu': 0.786, 'pos': 0.094, 'compound': -0.9998}\n",
      "{'neg': 0.097, 'neu': 0.824, 'pos': 0.079, 'compound': -0.9996}\n",
      "{'neg': 0.086, 'neu': 0.733, 'pos': 0.181, 'compound': 1.0}\n"
     ]
    }
   ],
   "source": [
    "for chapter in chapters:\n",
    "    scores = analyzer.polarity_scores(chapter)\n",
    "    print(scores)"
   ]
  },
  {
   "cell_type": "code",
   "execution_count": null,
   "id": "bf8419ba-185f-4d0d-aee2-77f22350f228",
   "metadata": {},
   "outputs": [],
   "source": []
  }
 ],
 "metadata": {
  "kernelspec": {
   "display_name": "Python 3 (ipykernel)",
   "language": "python",
   "name": "python3"
  },
  "language_info": {
   "codemirror_mode": {
    "name": "ipython",
    "version": 3
   },
   "file_extension": ".py",
   "mimetype": "text/x-python",
   "name": "python",
   "nbconvert_exporter": "python",
   "pygments_lexer": "ipython3",
   "version": "3.13.3"
  }
 },
 "nbformat": 4,
 "nbformat_minor": 5
}
